{
  "metadata": {
    "language_info": {
      "codemirror_mode": {
        "name": "python",
        "version": 3
      },
      "file_extension": ".py",
      "mimetype": "text/x-python",
      "name": "python",
      "nbconvert_exporter": "python",
      "pygments_lexer": "ipython3",
      "version": "3.8"
    },
    "kernelspec": {
      "name": "python",
      "display_name": "Python (Pyodide)",
      "language": "python"
    }
  },
  "nbformat_minor": 4,
  "nbformat": 4,
  "cells": [
    {
      "cell_type": "code",
      "source": "def print_stars(n):\n    for i in range(1, n+1):\n        print('*' * i)\n\nn = int(input(\"Enter a number: \"))\nprint_stars(n)\n\n",
      "metadata": {
        "trusted": true
      },
      "execution_count": null,
      "outputs": []
    },
    {
      "cell_type": "code",
      "source": "def print_stars(n):\n    for i in range(1, n + 1):\n        print(\"*\" * i)\n\n# Гаргасан n тоог авах\nn = int(input(\"n тоог оруулна уу: \"))\n\n# Функцыг дуудах\nprint_stars(n)\n\n",
      "metadata": {},
      "execution_count": null,
      "outputs": []
    },
    {
      "cell_type": "code",
      "source": "students = {\n    'Bat': 18,\n    'Oyun': 22,\n    'Dulam': 21,\n    'Suren': 20\n}\n\n# Хамгийн их key-г олох функц\nmax_key = max(students, key=lambda k: students[k])\n\n# Хамгийн бага key-г олох функц\nmin_key = min(students, key=lambda k: students[k])\n\nprint(f\"Хамгийн их key: {max_key}\")\nprint(f\"Хамгийн бага key: {min_key}\")\n",
      "metadata": {},
      "execution_count": null,
      "outputs": []
    },
    {
      "cell_type": "code",
      "source": "import numpy as np\n\narr = np.arange(1, 1000)\nfiltered_arr = arr[(arr % 3 == 0) | (arr % 7 == 0)]\nsum_of_filtered = np.sum(filtered_arr)\n\nprint(\"3-т эсвэл 7-т хувааж болох тоонуудын нийлбэр:\", sum_of_filtered)\n",
      "metadata": {},
      "execution_count": null,
      "outputs": []
    },
    {
      "cell_type": "code",
      "source": "",
      "metadata": {},
      "execution_count": null,
      "outputs": []
    }
  ]
}